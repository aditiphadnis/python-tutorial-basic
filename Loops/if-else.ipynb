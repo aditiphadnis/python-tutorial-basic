{
 "cells": [
  {
   "cell_type": "code",
   "execution_count": 13,
   "metadata": {},
   "outputs": [
    {
     "name": "stdout",
     "output_type": "stream",
     "text": [
      "1998 This is not a leap year\n"
     ]
    }
   ],
   "source": [
    "# Determine if a particular year is leap year\n",
    "year = 1998\n",
    "\n",
    "if year%4==0:\n",
    "    if year%100==0:\n",
    "        if year%400==0:\n",
    "            print(year, \"This is a leap year\")\n",
    "        else:\n",
    "            print(year, \"This is not a leap year\")\n",
    "    else:\n",
    "        print(year, \"This is a leap year\")\n",
    "else: \n",
    "    print(year, \"This is not a leap year\")\n"
   ]
  },
  {
   "cell_type": "code",
   "execution_count": 19,
   "metadata": {},
   "outputs": [
    {
     "name": "stdout",
     "output_type": "stream",
     "text": [
      "A\n",
      "d\n",
      "i\n",
      "t\n",
      "i\n",
      " \n",
      "P\n",
      "h\n",
      "a\n",
      "d\n",
      "n\n",
      "i\n",
      "s\n"
     ]
    }
   ],
   "source": [
    "str= 'Aditi Phadnis'\n",
    "\n",
    "# for i in str:\n",
    "#     print(i)\n",
    "\n",
    "for i in str.strip(''):\n",
    "    print(i)"
   ]
  },
  {
   "cell_type": "code",
   "execution_count": 20,
   "metadata": {},
   "outputs": [
    {
     "name": "stdout",
     "output_type": "stream",
     "text": [
      "0 is less than 5\n",
      "1 is less than 5\n",
      "2 is less than 5\n",
      "3 is less than 5\n",
      "4 is less than 5\n"
     ]
    }
   ],
   "source": [
    "count = 0\n",
    "\n",
    "while count <5:\n",
    "    print(count, \"is less than 5\")\n",
    "    count += 1"
   ]
  },
  {
   "cell_type": "code",
   "execution_count": 21,
   "metadata": {},
   "outputs": [
    {
     "name": "stdout",
     "output_type": "stream",
     "text": [
      "0\n",
      "1\n",
      "2\n",
      "3\n",
      "4\n"
     ]
    }
   ],
   "source": [
    "# Break\n",
    "# Break statement exists the loop prematurely.\n",
    "\n",
    "for i in range(10):\n",
    "    if i == 5:\n",
    "        break\n",
    "    print(i)"
   ]
  },
  {
   "cell_type": "code",
   "execution_count": 22,
   "metadata": {},
   "outputs": [
    {
     "name": "stdout",
     "output_type": "stream",
     "text": [
      "1\n",
      "3\n",
      "5\n",
      "7\n",
      "9\n"
     ]
    }
   ],
   "source": [
    "# Continue- Skips the current iteration and continues the next,\n",
    "\n",
    "for i in range(10):\n",
    "    if i%2 == 0:\n",
    "        continue\n",
    "    print(i)"
   ]
  },
  {
   "cell_type": "code",
   "execution_count": 24,
   "metadata": {},
   "outputs": [
    {
     "name": "stdout",
     "output_type": "stream",
     "text": [
      "0\n",
      "1\n",
      "2\n",
      "The number is  3\n",
      "3\n",
      "4\n"
     ]
    }
   ],
   "source": [
    "#pass \n",
    "#pass statement is a null operation, and it does nothing.\n",
    "\n",
    "for i in range(5):\n",
    "    if i ==3:\n",
    "        print(\"The number is \", i)\n",
    "        pass\n",
    "    print(i)"
   ]
  },
  {
   "cell_type": "code",
   "execution_count": 33,
   "metadata": {},
   "outputs": [
    {
     "name": "stdout",
     "output_type": "stream",
     "text": [
      "sum of first 20 natural numbers is:  210\n"
     ]
    }
   ],
   "source": [
    "#Calculate the sum of first n natural numbers using a while loop and for loop\n",
    "n= 20\n",
    "sum =0\n",
    "count = 1\n",
    "while count<=n:\n",
    "    sum = sum + count\n",
    "    count  += 1\n",
    "print(f\"sum of first {n} natural numbers is: \", sum)\n",
    "\n",
    "\n"
   ]
  },
  {
   "cell_type": "code",
   "execution_count": 34,
   "metadata": {},
   "outputs": [
    {
     "name": "stdout",
     "output_type": "stream",
     "text": [
      "sum of first 20 natural numbers is:  55\n"
     ]
    }
   ],
   "source": [
    "n= 20\n",
    "sum =0\n",
    "count = 1\n",
    "\n",
    "for i in range(11):\n",
    "    sum = sum + i\n",
    "print(f\"sum of first {n} natural numbers is: \", sum)"
   ]
  },
  {
   "cell_type": "code",
   "execution_count": 41,
   "metadata": {},
   "outputs": [
    {
     "name": "stdout",
     "output_type": "stream",
     "text": [
      "100 is not a prime number as it is divisible by 2\n",
      "101 is a prime number\n",
      "102 is not a prime number as it is divisible by 2\n",
      "103 is a prime number\n",
      "104 is not a prime number as it is divisible by 2\n",
      "105 is not a prime number as it is divisible by 3\n",
      "106 is not a prime number as it is divisible by 2\n",
      "107 is a prime number\n",
      "108 is not a prime number as it is divisible by 2\n",
      "109 is a prime number\n",
      "110 is not a prime number as it is divisible by 2\n",
      "111 is not a prime number as it is divisible by 3\n",
      "112 is not a prime number as it is divisible by 2\n",
      "113 is a prime number\n",
      "114 is not a prime number as it is divisible by 2\n",
      "115 is not a prime number as it is divisible by 5\n",
      "116 is not a prime number as it is divisible by 2\n",
      "117 is not a prime number as it is divisible by 3\n",
      "118 is not a prime number as it is divisible by 2\n",
      "119 is not a prime number as it is divisible by 7\n",
      "120 is not a prime number as it is divisible by 2\n",
      "121 is not a prime number as it is divisible by 11\n",
      "122 is not a prime number as it is divisible by 2\n",
      "123 is not a prime number as it is divisible by 3\n",
      "124 is not a prime number as it is divisible by 2\n",
      "125 is not a prime number as it is divisible by 5\n",
      "126 is not a prime number as it is divisible by 2\n",
      "127 is a prime number\n",
      "128 is not a prime number as it is divisible by 2\n",
      "129 is not a prime number as it is divisible by 3\n",
      "130 is not a prime number as it is divisible by 2\n",
      "131 is a prime number\n",
      "132 is not a prime number as it is divisible by 2\n",
      "133 is not a prime number as it is divisible by 7\n",
      "134 is not a prime number as it is divisible by 2\n",
      "135 is not a prime number as it is divisible by 3\n",
      "136 is not a prime number as it is divisible by 2\n",
      "137 is a prime number\n",
      "138 is not a prime number as it is divisible by 2\n",
      "139 is a prime number\n",
      "140 is not a prime number as it is divisible by 2\n",
      "141 is not a prime number as it is divisible by 3\n",
      "142 is not a prime number as it is divisible by 2\n",
      "143 is not a prime number as it is divisible by 11\n",
      "144 is not a prime number as it is divisible by 2\n",
      "145 is not a prime number as it is divisible by 5\n",
      "146 is not a prime number as it is divisible by 2\n",
      "147 is not a prime number as it is divisible by 3\n",
      "148 is not a prime number as it is divisible by 2\n",
      "149 is a prime number\n",
      "150 is not a prime number as it is divisible by 2\n",
      "151 is a prime number\n",
      "152 is not a prime number as it is divisible by 2\n",
      "153 is not a prime number as it is divisible by 3\n",
      "154 is not a prime number as it is divisible by 2\n",
      "155 is not a prime number as it is divisible by 5\n",
      "156 is not a prime number as it is divisible by 2\n",
      "157 is a prime number\n",
      "158 is not a prime number as it is divisible by 2\n",
      "159 is not a prime number as it is divisible by 3\n",
      "160 is not a prime number as it is divisible by 2\n",
      "161 is not a prime number as it is divisible by 7\n",
      "162 is not a prime number as it is divisible by 2\n",
      "163 is a prime number\n",
      "164 is not a prime number as it is divisible by 2\n",
      "165 is not a prime number as it is divisible by 3\n",
      "166 is not a prime number as it is divisible by 2\n",
      "167 is a prime number\n",
      "168 is not a prime number as it is divisible by 2\n",
      "169 is not a prime number as it is divisible by 13\n",
      "170 is not a prime number as it is divisible by 2\n",
      "171 is not a prime number as it is divisible by 3\n",
      "172 is not a prime number as it is divisible by 2\n",
      "173 is a prime number\n",
      "174 is not a prime number as it is divisible by 2\n",
      "175 is not a prime number as it is divisible by 5\n",
      "176 is not a prime number as it is divisible by 2\n",
      "177 is not a prime number as it is divisible by 3\n",
      "178 is not a prime number as it is divisible by 2\n",
      "179 is a prime number\n",
      "180 is not a prime number as it is divisible by 2\n",
      "181 is a prime number\n",
      "182 is not a prime number as it is divisible by 2\n",
      "183 is not a prime number as it is divisible by 3\n",
      "184 is not a prime number as it is divisible by 2\n",
      "185 is not a prime number as it is divisible by 5\n",
      "186 is not a prime number as it is divisible by 2\n",
      "187 is not a prime number as it is divisible by 11\n",
      "188 is not a prime number as it is divisible by 2\n",
      "189 is not a prime number as it is divisible by 3\n",
      "190 is not a prime number as it is divisible by 2\n",
      "191 is a prime number\n",
      "192 is not a prime number as it is divisible by 2\n",
      "193 is a prime number\n",
      "194 is not a prime number as it is divisible by 2\n",
      "195 is not a prime number as it is divisible by 3\n",
      "196 is not a prime number as it is divisible by 2\n",
      "197 is a prime number\n",
      "198 is not a prime number as it is divisible by 2\n",
      "199 is a prime number\n"
     ]
    }
   ],
   "source": [
    "#display prime numbers between 1 and 100 using for loop\n",
    "\n",
    "for num in range(100,200):\n",
    "    if num >1:\n",
    "        for i in range(2, num):\n",
    "            if num%i == 0:\n",
    "                print(num, \"is not a prime number as it is divisible by\", i)\n",
    "                break\n",
    "        else:\n",
    "            print(num, \"is a prime number\")\n",
    "\n",
    "\n"
   ]
  }
 ],
 "metadata": {
  "kernelspec": {
   "display_name": "my_env",
   "language": "python",
   "name": "python3"
  },
  "language_info": {
   "codemirror_mode": {
    "name": "ipython",
    "version": 3
   },
   "file_extension": ".py",
   "mimetype": "text/x-python",
   "name": "python",
   "nbconvert_exporter": "python",
   "pygments_lexer": "ipython3",
   "version": "3.13.2"
  }
 },
 "nbformat": 4,
 "nbformat_minor": 2
}
